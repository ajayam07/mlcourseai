{
 "cells": [
  {
   "cell_type": "code",
   "execution_count": 1,
   "metadata": {},
   "outputs": [],
   "source": [
    "import numpy as np"
   ]
  },
  {
   "cell_type": "code",
   "execution_count": 2,
   "metadata": {},
   "outputs": [],
   "source": [
    "# Toy Example\n",
    "# np.log2(10/20)\n",
    "def calc_entropy(x):\n",
    "    intr = x/x.sum()\n",
    "    return - (intr.T * np.log2(intr)).sum()"
   ]
  },
  {
   "cell_type": "code",
   "execution_count": 6,
   "metadata": {},
   "outputs": [
    {
     "data": {
      "text/plain": [
       "(3.9603202553942918, 3.3163332805628034)"
      ]
     },
     "execution_count": 6,
     "metadata": {},
     "output_type": "execute_result"
    }
   ],
   "source": [
    "calc_entropy(y[np.where(y<4)]), calc_entropy(y[np.where(~(y<4))])"
   ]
  },
  {
   "cell_type": "code",
   "execution_count": 4,
   "metadata": {},
   "outputs": [],
   "source": [
    "def info_gain_from_entropy(y,y1,y2):\n",
    "    s0 = calc_entropy(y)\n",
    "    s1 = calc_entropy(y1)\n",
    "    s2 = calc_entropy(y2)\n",
    "    return s0,s1,s2, s0 - y1.shape[0]/y.shape[1] * s1 - y2.shape[0]/y.shape[1] * s2"
   ]
  },
  {
   "cell_type": "code",
   "execution_count": 5,
   "metadata": {},
   "outputs": [
    {
     "data": {
      "text/plain": [
       "(array([[1, 3, 3, 1, 5, 5, 6, 5, 6, 1, 6, 1, 2, 1, 2, 2, 3, 6, 2, 2, 2, 1,\n",
       "         3, 6, 6, 3, 5]]),\n",
       " 136.12250274861054,\n",
       " (136.12250274861054,\n",
       "  3.9603202553942918,\n",
       "  3.3163332805628034,\n",
       "  132.4006961875983))"
      ]
     },
     "execution_count": 5,
     "metadata": {},
     "output_type": "execute_result"
    }
   ],
   "source": [
    "y = np.random.randint(1,7, size=(1,27))\n",
    "y, calc_entropy(y), info_gain_from_entropy(y,y[np.where(y<4)], y[np.where(~ (y<4))])"
   ]
  }
 ],
 "metadata": {
  "kernelspec": {
   "display_name": "scipy_lec",
   "language": "python",
   "name": "python3"
  },
  "language_info": {
   "codemirror_mode": {
    "name": "ipython",
    "version": 3
   },
   "file_extension": ".py",
   "mimetype": "text/x-python",
   "name": "python",
   "nbconvert_exporter": "python",
   "pygments_lexer": "ipython3",
   "version": "3.11.0"
  },
  "orig_nbformat": 4
 },
 "nbformat": 4,
 "nbformat_minor": 2
}
